{
  "cells": [
    {
      "cell_type": "markdown",
      "metadata": {
        "id": "view-in-github",
        "colab_type": "text"
      },
      "source": [
        "<a href=\"https://colab.research.google.com/github/mdruesch98/ptmma25-data-science-for-business-II-team-assignment/blob/main/PTMMA_Introduction_To_Machine_Learning_Coupon_Case_Submission_Template_MD_v2.ipynb\" target=\"_parent\"><img src=\"https://colab.research.google.com/assets/colab-badge.svg\" alt=\"Open In Colab\"/></a>"
      ]
    },
    {
      "cell_type": "markdown",
      "id": "alone-parish",
      "metadata": {
        "id": "alone-parish"
      },
      "source": [
        "__Mannheim Master in Management Analytics__ <br>\n",
        "Introduction to Machine Learning, Prof. Dr. Jochen Hartmann"
      ]
    },
    {
      "cell_type": "markdown",
      "id": "exempt-definition",
      "metadata": {
        "id": "exempt-definition"
      },
      "source": [
        "## Individual Case Study: \"In-Vehicle Coupon Recommendation\""
      ]
    },
    {
      "cell_type": "markdown",
      "id": "specific-rough",
      "metadata": {
        "id": "specific-rough"
      },
      "source": [
        "### Submission Template"
      ]
    },
    {
      "cell_type": "code",
      "execution_count": null,
      "id": "quiet-industry",
      "metadata": {
        "id": "quiet-industry"
      },
      "outputs": [],
      "source": [
        "YOUR_NAME = 'Maximilian Drüschler'"
      ]
    },
    {
      "cell_type": "markdown",
      "id": "charged-retail",
      "metadata": {
        "id": "charged-retail"
      },
      "source": [
        "*Please use this template for your submission. It should include all analyses (as documented Python code) and answers to the case study. <br> Please refer to the course syllabus for detailed submission instructions.* <br>\n",
        "\n",
        "For the submission deadline please refer to the syllabus. <br>\n",
        "__Important:__ Please keep all your answers short and crisp. <br>\n",
        "\n",
        "The submission template's structure is based on Appendix B: Machine Learning Project Checklist in <a href=\"https://www.oreilly.com/library/view/hands-on-machine-learning/9781492032632/\">Géron (2019)</a>."
      ]
    },
    {
      "cell_type": "markdown",
      "id": "collect-creativity",
      "metadata": {
        "id": "collect-creativity"
      },
      "source": [
        "### 1. Frame the Problem"
      ]
    },
    {
      "cell_type": "markdown",
      "id": "hungarian-poetry",
      "metadata": {
        "id": "hungarian-poetry"
      },
      "source": [
        "a. What is the objective of this case study (in business terms)? Refer to <a href=\"https://jmlr.org/papers/volume18/16-003/16-003.pdf\">Wang et al. (2017)</a> for further details on the data set (especially Appendix B). <br>\n",
        "b. Is the problem supervised or unsupervised? <br>\n",
        "c. What is the classification objective? <br>\n",
        "d. Describe a comparable problem? Can you reuse experience or tools?"
      ]
    },
    {
      "cell_type": "markdown",
      "id": "vital-stanford",
      "metadata": {
        "id": "vital-stanford"
      },
      "source": [
        "Your Answer / Code Below:"
      ]
    },
    {
      "cell_type": "code",
      "execution_count": null,
      "id": "italian-ticket",
      "metadata": {
        "id": "italian-ticket"
      },
      "outputs": [],
      "source": [
        "## a\n",
        "#\n",
        "\n",
        "## b\n",
        "# The problem is supervised.\n",
        "\n",
        "## c\n",
        "# The classifier is used to predict whether a customer will accept a coupon for nearby restaurants or coffee houses\n",
        "# while driving in his/her car. The model is trained on user, contextual (situational) and coupon data.\n",
        "\n",
        "## d\n",
        "# In general, it is comparable to all other classification tasks\n",
        "#  - e.g. the one discussed in the lectures (predicting if a house is in New York or San Francisco by recognizing patterns in the training data).\n",
        "# Accordingly, I can reuse tools from class like logistics regression,K Nearest Neighbors, SVM, Decision Tree, Random Forest and Neural Network.\n",
        "\n",
        "# A more similar problem in business context would be to predict if a customer will click on an add when shown (on any website) with features like:\n",
        "# Previous purchases, click rates, scrolling behavior, date, time, previously visited sites etc.."
      ]
    },
    {
      "cell_type": "markdown",
      "id": "corresponding-citation",
      "metadata": {
        "id": "corresponding-citation"
      },
      "source": [
        "### 2. Get the Data"
      ]
    },
    {
      "cell_type": "markdown",
      "id": "native-reproduction",
      "metadata": {
        "id": "native-reproduction"
      },
      "source": [
        "a. Load required packages for data analysis (e.g., pandas as pd, numpy as np, os, etc.). <br>\n",
        "b. Load the file \"in-vehicle-coupon-recommendation.csv\", using the pd.read_csv() command. Call the dataframe 'd'. <br>"
      ]
    },
    {
      "cell_type": "markdown",
      "id": "conscious-banking",
      "metadata": {
        "id": "conscious-banking"
      },
      "source": [
        "Your Answer / Code Below:"
      ]
    },
    {
      "cell_type": "code",
      "execution_count": null,
      "id": "anonymous-minority",
      "metadata": {
        "id": "anonymous-minority"
      },
      "outputs": [],
      "source": [
        "## a. Load required packages for data analysis (e.g., pandas as pd, numpy as np, os, etc.).\n",
        "\n",
        "import pandas as pd\n",
        "import numpy as np\n",
        "import os\n",
        "import sklearn\n",
        "import matplotlib.pyplot as plt\n",
        "from sklearn.model_selection import train_test_split\n",
        "from sklearn.compose import ColumnTransformer\n",
        "from sklearn.preprocessing import OneHotEncoder, StandardScaler\n",
        "from sklearn.pipeline import Pipeline\n"
      ]
    },
    {
      "cell_type": "code",
      "source": [
        "## b. Load the file \"in-vehicle-coupon-recommendation.csv\", using the pd.read_csv() command. Call the dataframe 'd'.\n",
        "d = pd.read_csv(\"in-vehicle-coupon-recommendation.csv\")"
      ],
      "metadata": {
        "id": "__sFmaQoIcU7"
      },
      "id": "__sFmaQoIcU7",
      "execution_count": null,
      "outputs": []
    },
    {
      "cell_type": "markdown",
      "id": "passing-atlanta",
      "metadata": {
        "id": "passing-atlanta"
      },
      "source": [
        "### 3. Explore the Data"
      ]
    },
    {
      "cell_type": "markdown",
      "id": "worse-potter",
      "metadata": {
        "id": "worse-potter"
      },
      "source": [
        "a. Print the first 5 rows of the data set. <br>\n",
        "b. How many observations (rows) and features (columns, excl. 'Y') does the data set contain? <br>\n",
        "c. Does the data set contain any missing values? If yes, name the variables with NaN's. <br>\n",
        "d. What are the class shares of the variable 'Y'? What does it mean if Y=1 in the given context? <br>\n",
        "e. Which numeric feature is correlated most strongly with Y? <br>"
      ]
    },
    {
      "cell_type": "markdown",
      "id": "assisted-continuity",
      "metadata": {
        "id": "assisted-continuity"
      },
      "source": [
        "Your Answer / Code Below:"
      ]
    },
    {
      "cell_type": "code",
      "execution_count": null,
      "id": "amber-anaheim",
      "metadata": {
        "id": "amber-anaheim",
        "colab": {
          "base_uri": "https://localhost:8080/",
          "height": 338
        },
        "outputId": "43202f5a-498c-4f1b-fefd-7329f5d54502"
      },
      "outputs": [
        {
          "output_type": "execute_result",
          "data": {
            "text/plain": [
              "       destination  passanger weather  temperature  time  \\\n",
              "0  No Urgent Place      Alone   Sunny           55   2PM   \n",
              "1  No Urgent Place  Friend(s)   Sunny           80  10AM   \n",
              "2  No Urgent Place  Friend(s)   Sunny           80  10AM   \n",
              "3  No Urgent Place  Friend(s)   Sunny           80   2PM   \n",
              "4  No Urgent Place  Friend(s)   Sunny           80   2PM   \n",
              "\n",
              "                  coupon expiration  gender age      maritalStatus  ...  \\\n",
              "0        Restaurant(<20)         1d  Female  21  Unmarried partner  ...   \n",
              "1           Coffee House         2h  Female  21  Unmarried partner  ...   \n",
              "2  Carry out & Take away         2h  Female  21  Unmarried partner  ...   \n",
              "3           Coffee House         2h  Female  21  Unmarried partner  ...   \n",
              "4           Coffee House         1d  Female  21  Unmarried partner  ...   \n",
              "\n",
              "   CoffeeHouse CarryAway RestaurantLessThan20 Restaurant20To50  \\\n",
              "0        never       NaN                  4~8              1~3   \n",
              "1        never       NaN                  4~8              1~3   \n",
              "2        never       NaN                  4~8              1~3   \n",
              "3        never       NaN                  4~8              1~3   \n",
              "4        never       NaN                  4~8              1~3   \n",
              "\n",
              "  toCoupon_GEQ5min toCoupon_GEQ15min toCoupon_GEQ25min direction_same  \\\n",
              "0                1                 0                 0              0   \n",
              "1                1                 0                 0              0   \n",
              "2                1                 1                 0              0   \n",
              "3                1                 1                 0              0   \n",
              "4                1                 1                 0              0   \n",
              "\n",
              "  direction_opp  Y  \n",
              "0             1  1  \n",
              "1             1  0  \n",
              "2             1  1  \n",
              "3             1  0  \n",
              "4             1  0  \n",
              "\n",
              "[5 rows x 26 columns]"
            ],
            "text/html": [
              "\n",
              "  <div id=\"df-82ef7341-da92-4cbd-b662-bfb6a97fe305\" class=\"colab-df-container\">\n",
              "    <div>\n",
              "<style scoped>\n",
              "    .dataframe tbody tr th:only-of-type {\n",
              "        vertical-align: middle;\n",
              "    }\n",
              "\n",
              "    .dataframe tbody tr th {\n",
              "        vertical-align: top;\n",
              "    }\n",
              "\n",
              "    .dataframe thead th {\n",
              "        text-align: right;\n",
              "    }\n",
              "</style>\n",
              "<table border=\"1\" class=\"dataframe\">\n",
              "  <thead>\n",
              "    <tr style=\"text-align: right;\">\n",
              "      <th></th>\n",
              "      <th>destination</th>\n",
              "      <th>passanger</th>\n",
              "      <th>weather</th>\n",
              "      <th>temperature</th>\n",
              "      <th>time</th>\n",
              "      <th>coupon</th>\n",
              "      <th>expiration</th>\n",
              "      <th>gender</th>\n",
              "      <th>age</th>\n",
              "      <th>maritalStatus</th>\n",
              "      <th>...</th>\n",
              "      <th>CoffeeHouse</th>\n",
              "      <th>CarryAway</th>\n",
              "      <th>RestaurantLessThan20</th>\n",
              "      <th>Restaurant20To50</th>\n",
              "      <th>toCoupon_GEQ5min</th>\n",
              "      <th>toCoupon_GEQ15min</th>\n",
              "      <th>toCoupon_GEQ25min</th>\n",
              "      <th>direction_same</th>\n",
              "      <th>direction_opp</th>\n",
              "      <th>Y</th>\n",
              "    </tr>\n",
              "  </thead>\n",
              "  <tbody>\n",
              "    <tr>\n",
              "      <th>0</th>\n",
              "      <td>No Urgent Place</td>\n",
              "      <td>Alone</td>\n",
              "      <td>Sunny</td>\n",
              "      <td>55</td>\n",
              "      <td>2PM</td>\n",
              "      <td>Restaurant(&lt;20)</td>\n",
              "      <td>1d</td>\n",
              "      <td>Female</td>\n",
              "      <td>21</td>\n",
              "      <td>Unmarried partner</td>\n",
              "      <td>...</td>\n",
              "      <td>never</td>\n",
              "      <td>NaN</td>\n",
              "      <td>4~8</td>\n",
              "      <td>1~3</td>\n",
              "      <td>1</td>\n",
              "      <td>0</td>\n",
              "      <td>0</td>\n",
              "      <td>0</td>\n",
              "      <td>1</td>\n",
              "      <td>1</td>\n",
              "    </tr>\n",
              "    <tr>\n",
              "      <th>1</th>\n",
              "      <td>No Urgent Place</td>\n",
              "      <td>Friend(s)</td>\n",
              "      <td>Sunny</td>\n",
              "      <td>80</td>\n",
              "      <td>10AM</td>\n",
              "      <td>Coffee House</td>\n",
              "      <td>2h</td>\n",
              "      <td>Female</td>\n",
              "      <td>21</td>\n",
              "      <td>Unmarried partner</td>\n",
              "      <td>...</td>\n",
              "      <td>never</td>\n",
              "      <td>NaN</td>\n",
              "      <td>4~8</td>\n",
              "      <td>1~3</td>\n",
              "      <td>1</td>\n",
              "      <td>0</td>\n",
              "      <td>0</td>\n",
              "      <td>0</td>\n",
              "      <td>1</td>\n",
              "      <td>0</td>\n",
              "    </tr>\n",
              "    <tr>\n",
              "      <th>2</th>\n",
              "      <td>No Urgent Place</td>\n",
              "      <td>Friend(s)</td>\n",
              "      <td>Sunny</td>\n",
              "      <td>80</td>\n",
              "      <td>10AM</td>\n",
              "      <td>Carry out &amp; Take away</td>\n",
              "      <td>2h</td>\n",
              "      <td>Female</td>\n",
              "      <td>21</td>\n",
              "      <td>Unmarried partner</td>\n",
              "      <td>...</td>\n",
              "      <td>never</td>\n",
              "      <td>NaN</td>\n",
              "      <td>4~8</td>\n",
              "      <td>1~3</td>\n",
              "      <td>1</td>\n",
              "      <td>1</td>\n",
              "      <td>0</td>\n",
              "      <td>0</td>\n",
              "      <td>1</td>\n",
              "      <td>1</td>\n",
              "    </tr>\n",
              "    <tr>\n",
              "      <th>3</th>\n",
              "      <td>No Urgent Place</td>\n",
              "      <td>Friend(s)</td>\n",
              "      <td>Sunny</td>\n",
              "      <td>80</td>\n",
              "      <td>2PM</td>\n",
              "      <td>Coffee House</td>\n",
              "      <td>2h</td>\n",
              "      <td>Female</td>\n",
              "      <td>21</td>\n",
              "      <td>Unmarried partner</td>\n",
              "      <td>...</td>\n",
              "      <td>never</td>\n",
              "      <td>NaN</td>\n",
              "      <td>4~8</td>\n",
              "      <td>1~3</td>\n",
              "      <td>1</td>\n",
              "      <td>1</td>\n",
              "      <td>0</td>\n",
              "      <td>0</td>\n",
              "      <td>1</td>\n",
              "      <td>0</td>\n",
              "    </tr>\n",
              "    <tr>\n",
              "      <th>4</th>\n",
              "      <td>No Urgent Place</td>\n",
              "      <td>Friend(s)</td>\n",
              "      <td>Sunny</td>\n",
              "      <td>80</td>\n",
              "      <td>2PM</td>\n",
              "      <td>Coffee House</td>\n",
              "      <td>1d</td>\n",
              "      <td>Female</td>\n",
              "      <td>21</td>\n",
              "      <td>Unmarried partner</td>\n",
              "      <td>...</td>\n",
              "      <td>never</td>\n",
              "      <td>NaN</td>\n",
              "      <td>4~8</td>\n",
              "      <td>1~3</td>\n",
              "      <td>1</td>\n",
              "      <td>1</td>\n",
              "      <td>0</td>\n",
              "      <td>0</td>\n",
              "      <td>1</td>\n",
              "      <td>0</td>\n",
              "    </tr>\n",
              "  </tbody>\n",
              "</table>\n",
              "<p>5 rows × 26 columns</p>\n",
              "</div>\n",
              "    <div class=\"colab-df-buttons\">\n",
              "\n",
              "  <div class=\"colab-df-container\">\n",
              "    <button class=\"colab-df-convert\" onclick=\"convertToInteractive('df-82ef7341-da92-4cbd-b662-bfb6a97fe305')\"\n",
              "            title=\"Convert this dataframe to an interactive table.\"\n",
              "            style=\"display:none;\">\n",
              "\n",
              "  <svg xmlns=\"http://www.w3.org/2000/svg\" height=\"24px\" viewBox=\"0 -960 960 960\">\n",
              "    <path d=\"M120-120v-720h720v720H120Zm60-500h600v-160H180v160Zm220 220h160v-160H400v160Zm0 220h160v-160H400v160ZM180-400h160v-160H180v160Zm440 0h160v-160H620v160ZM180-180h160v-160H180v160Zm440 0h160v-160H620v160Z\"/>\n",
              "  </svg>\n",
              "    </button>\n",
              "\n",
              "  <style>\n",
              "    .colab-df-container {\n",
              "      display:flex;\n",
              "      gap: 12px;\n",
              "    }\n",
              "\n",
              "    .colab-df-convert {\n",
              "      background-color: #E8F0FE;\n",
              "      border: none;\n",
              "      border-radius: 50%;\n",
              "      cursor: pointer;\n",
              "      display: none;\n",
              "      fill: #1967D2;\n",
              "      height: 32px;\n",
              "      padding: 0 0 0 0;\n",
              "      width: 32px;\n",
              "    }\n",
              "\n",
              "    .colab-df-convert:hover {\n",
              "      background-color: #E2EBFA;\n",
              "      box-shadow: 0px 1px 2px rgba(60, 64, 67, 0.3), 0px 1px 3px 1px rgba(60, 64, 67, 0.15);\n",
              "      fill: #174EA6;\n",
              "    }\n",
              "\n",
              "    .colab-df-buttons div {\n",
              "      margin-bottom: 4px;\n",
              "    }\n",
              "\n",
              "    [theme=dark] .colab-df-convert {\n",
              "      background-color: #3B4455;\n",
              "      fill: #D2E3FC;\n",
              "    }\n",
              "\n",
              "    [theme=dark] .colab-df-convert:hover {\n",
              "      background-color: #434B5C;\n",
              "      box-shadow: 0px 1px 3px 1px rgba(0, 0, 0, 0.15);\n",
              "      filter: drop-shadow(0px 1px 2px rgba(0, 0, 0, 0.3));\n",
              "      fill: #FFFFFF;\n",
              "    }\n",
              "  </style>\n",
              "\n",
              "    <script>\n",
              "      const buttonEl =\n",
              "        document.querySelector('#df-82ef7341-da92-4cbd-b662-bfb6a97fe305 button.colab-df-convert');\n",
              "      buttonEl.style.display =\n",
              "        google.colab.kernel.accessAllowed ? 'block' : 'none';\n",
              "\n",
              "      async function convertToInteractive(key) {\n",
              "        const element = document.querySelector('#df-82ef7341-da92-4cbd-b662-bfb6a97fe305');\n",
              "        const dataTable =\n",
              "          await google.colab.kernel.invokeFunction('convertToInteractive',\n",
              "                                                    [key], {});\n",
              "        if (!dataTable) return;\n",
              "\n",
              "        const docLinkHtml = 'Like what you see? Visit the ' +\n",
              "          '<a target=\"_blank\" href=https://colab.research.google.com/notebooks/data_table.ipynb>data table notebook</a>'\n",
              "          + ' to learn more about interactive tables.';\n",
              "        element.innerHTML = '';\n",
              "        dataTable['output_type'] = 'display_data';\n",
              "        await google.colab.output.renderOutput(dataTable, element);\n",
              "        const docLink = document.createElement('div');\n",
              "        docLink.innerHTML = docLinkHtml;\n",
              "        element.appendChild(docLink);\n",
              "      }\n",
              "    </script>\n",
              "  </div>\n",
              "\n",
              "\n",
              "<div id=\"df-43489ce9-124a-49fe-8a9c-24b65b4d15ff\">\n",
              "  <button class=\"colab-df-quickchart\" onclick=\"quickchart('df-43489ce9-124a-49fe-8a9c-24b65b4d15ff')\"\n",
              "            title=\"Suggest charts\"\n",
              "            style=\"display:none;\">\n",
              "\n",
              "<svg xmlns=\"http://www.w3.org/2000/svg\" height=\"24px\"viewBox=\"0 0 24 24\"\n",
              "     width=\"24px\">\n",
              "    <g>\n",
              "        <path d=\"M19 3H5c-1.1 0-2 .9-2 2v14c0 1.1.9 2 2 2h14c1.1 0 2-.9 2-2V5c0-1.1-.9-2-2-2zM9 17H7v-7h2v7zm4 0h-2V7h2v10zm4 0h-2v-4h2v4z\"/>\n",
              "    </g>\n",
              "</svg>\n",
              "  </button>\n",
              "\n",
              "<style>\n",
              "  .colab-df-quickchart {\n",
              "      --bg-color: #E8F0FE;\n",
              "      --fill-color: #1967D2;\n",
              "      --hover-bg-color: #E2EBFA;\n",
              "      --hover-fill-color: #174EA6;\n",
              "      --disabled-fill-color: #AAA;\n",
              "      --disabled-bg-color: #DDD;\n",
              "  }\n",
              "\n",
              "  [theme=dark] .colab-df-quickchart {\n",
              "      --bg-color: #3B4455;\n",
              "      --fill-color: #D2E3FC;\n",
              "      --hover-bg-color: #434B5C;\n",
              "      --hover-fill-color: #FFFFFF;\n",
              "      --disabled-bg-color: #3B4455;\n",
              "      --disabled-fill-color: #666;\n",
              "  }\n",
              "\n",
              "  .colab-df-quickchart {\n",
              "    background-color: var(--bg-color);\n",
              "    border: none;\n",
              "    border-radius: 50%;\n",
              "    cursor: pointer;\n",
              "    display: none;\n",
              "    fill: var(--fill-color);\n",
              "    height: 32px;\n",
              "    padding: 0;\n",
              "    width: 32px;\n",
              "  }\n",
              "\n",
              "  .colab-df-quickchart:hover {\n",
              "    background-color: var(--hover-bg-color);\n",
              "    box-shadow: 0 1px 2px rgba(60, 64, 67, 0.3), 0 1px 3px 1px rgba(60, 64, 67, 0.15);\n",
              "    fill: var(--button-hover-fill-color);\n",
              "  }\n",
              "\n",
              "  .colab-df-quickchart-complete:disabled,\n",
              "  .colab-df-quickchart-complete:disabled:hover {\n",
              "    background-color: var(--disabled-bg-color);\n",
              "    fill: var(--disabled-fill-color);\n",
              "    box-shadow: none;\n",
              "  }\n",
              "\n",
              "  .colab-df-spinner {\n",
              "    border: 2px solid var(--fill-color);\n",
              "    border-color: transparent;\n",
              "    border-bottom-color: var(--fill-color);\n",
              "    animation:\n",
              "      spin 1s steps(1) infinite;\n",
              "  }\n",
              "\n",
              "  @keyframes spin {\n",
              "    0% {\n",
              "      border-color: transparent;\n",
              "      border-bottom-color: var(--fill-color);\n",
              "      border-left-color: var(--fill-color);\n",
              "    }\n",
              "    20% {\n",
              "      border-color: transparent;\n",
              "      border-left-color: var(--fill-color);\n",
              "      border-top-color: var(--fill-color);\n",
              "    }\n",
              "    30% {\n",
              "      border-color: transparent;\n",
              "      border-left-color: var(--fill-color);\n",
              "      border-top-color: var(--fill-color);\n",
              "      border-right-color: var(--fill-color);\n",
              "    }\n",
              "    40% {\n",
              "      border-color: transparent;\n",
              "      border-right-color: var(--fill-color);\n",
              "      border-top-color: var(--fill-color);\n",
              "    }\n",
              "    60% {\n",
              "      border-color: transparent;\n",
              "      border-right-color: var(--fill-color);\n",
              "    }\n",
              "    80% {\n",
              "      border-color: transparent;\n",
              "      border-right-color: var(--fill-color);\n",
              "      border-bottom-color: var(--fill-color);\n",
              "    }\n",
              "    90% {\n",
              "      border-color: transparent;\n",
              "      border-bottom-color: var(--fill-color);\n",
              "    }\n",
              "  }\n",
              "</style>\n",
              "\n",
              "  <script>\n",
              "    async function quickchart(key) {\n",
              "      const quickchartButtonEl =\n",
              "        document.querySelector('#' + key + ' button');\n",
              "      quickchartButtonEl.disabled = true;  // To prevent multiple clicks.\n",
              "      quickchartButtonEl.classList.add('colab-df-spinner');\n",
              "      try {\n",
              "        const charts = await google.colab.kernel.invokeFunction(\n",
              "            'suggestCharts', [key], {});\n",
              "      } catch (error) {\n",
              "        console.error('Error during call to suggestCharts:', error);\n",
              "      }\n",
              "      quickchartButtonEl.classList.remove('colab-df-spinner');\n",
              "      quickchartButtonEl.classList.add('colab-df-quickchart-complete');\n",
              "    }\n",
              "    (() => {\n",
              "      let quickchartButtonEl =\n",
              "        document.querySelector('#df-43489ce9-124a-49fe-8a9c-24b65b4d15ff button');\n",
              "      quickchartButtonEl.style.display =\n",
              "        google.colab.kernel.accessAllowed ? 'block' : 'none';\n",
              "    })();\n",
              "  </script>\n",
              "</div>\n",
              "    </div>\n",
              "  </div>\n"
            ],
            "application/vnd.google.colaboratory.intrinsic+json": {
              "type": "dataframe",
              "variable_name": "d"
            }
          },
          "metadata": {},
          "execution_count": 5
        }
      ],
      "source": [
        "## a. Print the first 5 rows of the data set.\n",
        "\n",
        "d.head() # 5 rows including the header.."
      ]
    },
    {
      "cell_type": "code",
      "source": [
        "## b. How many observations (rows) and features (columns, excl. 'Y') does the data set contain?\n",
        "\n",
        "d.info() # summary of the data\n",
        "print(\"\\n\") # formatting\n",
        "print(\"Answer: The data set contains 12,684 observations (rows) with 25 features (26 columns - Y).\")"
      ],
      "metadata": {
        "colab": {
          "base_uri": "https://localhost:8080/"
        },
        "id": "1PZEK9sE04f_",
        "outputId": "2ff13122-80bc-410d-8dfe-0676ebcb4145"
      },
      "id": "1PZEK9sE04f_",
      "execution_count": null,
      "outputs": [
        {
          "output_type": "stream",
          "name": "stdout",
          "text": [
            "<class 'pandas.core.frame.DataFrame'>\n",
            "RangeIndex: 12684 entries, 0 to 12683\n",
            "Data columns (total 26 columns):\n",
            " #   Column                Non-Null Count  Dtype \n",
            "---  ------                --------------  ----- \n",
            " 0   destination           12684 non-null  object\n",
            " 1   passanger             12684 non-null  object\n",
            " 2   weather               12684 non-null  object\n",
            " 3   temperature           12684 non-null  int64 \n",
            " 4   time                  12684 non-null  object\n",
            " 5   coupon                12684 non-null  object\n",
            " 6   expiration            12684 non-null  object\n",
            " 7   gender                12684 non-null  object\n",
            " 8   age                   12684 non-null  object\n",
            " 9   maritalStatus         12684 non-null  object\n",
            " 10  has_children          12684 non-null  int64 \n",
            " 11  education             12684 non-null  object\n",
            " 12  occupation            12684 non-null  object\n",
            " 13  income                12684 non-null  object\n",
            " 14  car                   108 non-null    object\n",
            " 15  Bar                   12577 non-null  object\n",
            " 16  CoffeeHouse           12467 non-null  object\n",
            " 17  CarryAway             12533 non-null  object\n",
            " 18  RestaurantLessThan20  12554 non-null  object\n",
            " 19  Restaurant20To50      12495 non-null  object\n",
            " 20  toCoupon_GEQ5min      12684 non-null  int64 \n",
            " 21  toCoupon_GEQ15min     12684 non-null  int64 \n",
            " 22  toCoupon_GEQ25min     12684 non-null  int64 \n",
            " 23  direction_same        12684 non-null  int64 \n",
            " 24  direction_opp         12684 non-null  int64 \n",
            " 25  Y                     12684 non-null  int64 \n",
            "dtypes: int64(8), object(18)\n",
            "memory usage: 2.5+ MB\n",
            "\n",
            "\n",
            "Answer: The data set contains 12,684 observations (rows) with 25 features (26 columns - Y).\n"
          ]
        }
      ]
    },
    {
      "cell_type": "code",
      "source": [
        "## c. Does the data set contain any missing values? If yes, name the variables with NaN's.\n",
        "\n",
        "print(\n",
        "    \"\"\"\n",
        "    Answer:\n",
        "    As already depicted in the table above, there are six variables with missing values.\n",
        "    \\n Here is a list of them:\n",
        "    \\n\n",
        "    \"\"\"\n",
        "    )\n",
        "\n",
        "# Count missing values per feature\n",
        "missing_values_count = d.isnull().sum()[d.isnull().sum() > 0]\n",
        "\n",
        "# Sort missing values count descending\n",
        "missing_values_count.sort_values(ascending=False, inplace=True)\n",
        "\n",
        "# Create a DataFrame to display the count\n",
        "missing_values_table = pd.DataFrame({'Feature': missing_values_count.index, 'Missing Values': missing_values_count.values})\n",
        "\n",
        "# Print the result\n",
        "print(missing_values_table.to_string(index=False))\n",
        "\n",
        "print(\n",
        "    \"\"\"\n",
        "    \\n\n",
        "    For the most features there are only a couple of missing values. Therefore, I think it is ok just to delete the according observations.\n",
        "    However, there is one feature with a very high missing value count 'car'. Here it is not possible to delete these observations.\n",
        "    In my opinion, it will be best to create an additional category 'NaN' to still grasp some insights from the little information we have while not hurting the model.\n",
        "    \"\"\"\n",
        "    )\n"
      ],
      "metadata": {
        "colab": {
          "base_uri": "https://localhost:8080/"
        },
        "id": "g9mZ6MgP2DhZ",
        "outputId": "2e076341-766f-4063-c63c-ab97ef9ad27e"
      },
      "id": "g9mZ6MgP2DhZ",
      "execution_count": null,
      "outputs": [
        {
          "output_type": "stream",
          "name": "stdout",
          "text": [
            "\n",
            "    Answer:\n",
            "    As already depicted in the table above, there are six variables with missing values.\n",
            "    \n",
            " Here is a list of them:\n",
            "    \n",
            "\n",
            "    \n",
            "             Feature  Missing Values\n",
            "                 car           12576\n",
            "         CoffeeHouse             217\n",
            "    Restaurant20To50             189\n",
            "           CarryAway             151\n",
            "RestaurantLessThan20             130\n",
            "                 Bar             107\n",
            "\n",
            "    \n",
            "\n",
            "    For the most features there are only a couple of missing values. Therefore, I think it is ok just to delete the according observations.\n",
            "    However, there is one feature with a very high missing value count 'car'. Here it is not possible to delete these observations.\n",
            "    In my opinion, it will be best to create an additional category 'NaN' to still grasp some insights from the little information we have while not hurting the model.\n",
            "    \n"
          ]
        }
      ]
    },
    {
      "cell_type": "code",
      "source": [
        "## d. What are the class shares of the variable 'Y'? What does it mean if Y=1 in the given context?\n",
        "\n",
        "# Counting absolute counts per class\n",
        "class_counts = d['Y'].value_counts()\n",
        "\n",
        "# Calculating shares from counts\n",
        "class_shares = class_counts / len(d) * 100\n",
        "\n",
        "# Create pie chart with customizations\n",
        "colors = ['deepskyblue', 'grey'] # Choosing custom colors\n",
        "plt.figure(figsize=(3, 3)) # Adjusting size\n",
        "wedge, labels, autopcts = plt.pie(class_counts.values, labels=class_counts, autopct='%1.1f%%', startangle=90, colors=colors) # Setting up the pie diagram\n",
        "\n",
        "# Style wedges for ring and color\n",
        "plt.setp(wedge, width=0.6, edgecolor='white')\n",
        "\n",
        "# Add counts outside the slices\n",
        "total_count = class_counts.sum()\n",
        "plt.annotate(f\"{total_count:,}\", xy=(0, 0), ha='center', va='center', fontsize=10)\n",
        "\n",
        "# Formatting the diagram\n",
        "legend_names = class_counts.index # Defining legend names\n",
        "plt.legend(wedge, legend_names, loc='upper left', bbox_to_anchor=(1, 0.4))  # Adjusting legend position as needed\n",
        "\n",
        "plt.title(\"Class Shares of the variable Y \\n\")\n",
        "\n",
        "plt.text(\n",
        "    -1.7, -1.2,\n",
        "    \"\"\"\n",
        "    Description:\n",
        "    \\n This pie chart represents the distribution of classes within the 'Y' feature.\n",
        "    \\n '1' in the given context means that a coupon was redeemed.\n",
        "    \\n '0' means that the coupon was not redeemed.\n",
        "    \"\"\",\n",
        "    ha='left', va='top', fontsize=10\n",
        "    )  # Adding text and adjusting position and size as needed\n",
        "\n",
        "# Show the plot\n",
        "plt.show()\n",
        "\n",
        "print(\n",
        "    \"\"\"\n",
        "    The class shares are shown in the plotted figure.\n",
        "    As stated in the description, Y = 1 means that the targeted customer redeemed the received coupon before it expired.\n",
        "    \"\"\"\n",
        "    )"
      ],
      "metadata": {
        "colab": {
          "base_uri": "https://localhost:8080/",
          "height": 518
        },
        "id": "re1RheeM9_KL",
        "outputId": "3dc57eac-a4a6-4f36-8bf1-55440ed6c792"
      },
      "id": "re1RheeM9_KL",
      "execution_count": null,
      "outputs": [
        {
          "output_type": "display_data",
          "data": {
            "text/plain": [
              "<Figure size 300x300 with 1 Axes>"
            ],
            "image/png": "[encoded data removed]"
          },
          "metadata": {}
        },
        {
          "output_type": "stream",
          "name": "stdout",
          "text": [
            "\n",
            "    The class shares are shown in the plotted figure.\n",
            "    As stated in the description, Y = 1 means that the targeted customer redeemed the received coupon before it expired.\n",
            "    \n"
          ]
        }
      ]
    },
    {
      "cell_type": "code",
      "source": [
        "## e. Which numeric feature is correlated most strongly with Y?\n",
        "corr_matrix = d.corr(numeric_only=True)\n",
        "\n",
        "\n",
        "print(\n",
        "    \"\"\"\n",
        "    Answer:\n",
        "    Since the defined problem is binary we need to be careful when interpreting the correlations computed by 'corr_matrix'.\n",
        "    They all seem very low - but this could be mainly due to the fact, that the outcome variable can only move between the values '0' and '1'.\n",
        "    However, we can still look at the values to get an overall feeling, how the numeric features influence the outcome variable\n",
        "    and which are the most influential once. The feature 'toCoupon_GEQ25min' has the highest correlation (- 0.10) with Y. This is not suprising.\n",
        "    Logically it makes sense that the distance to the restaurant/coffee house at the time the coupon is issued has a high impact\n",
        "    on the willingness of the customer to drive there to redeem it.\n",
        "    It also makes sense, that the correlation is negative then and gets bigger for the features which indicate a further distance.\n",
        "    -> the further away a customer is, the lower the willingness to redeem the coupon\n",
        "    Another result worth mentioning is the missing value for the correlation of 'toCoupon_GEQ5min' with Y.\n",
        "    This is due to the fact that the feature values are not varying in the given data set.\n",
        "    (meaning: all customers observed were at least 5 minutes away from the place the coupon was issued for)\n",
        "    \\n\n",
        "    \"\"\"\n",
        "    )\n",
        "\n",
        "corr_matrix[\"Y\"].sort_values(ascending=False)"
      ],
      "metadata": {
        "colab": {
          "base_uri": "https://localhost:8080/"
        },
        "id": "AaFmKSKKOfsd",
        "outputId": "03f1872e-6ac3-413b-ee86-4094b3bbefa2"
      },
      "id": "AaFmKSKKOfsd",
      "execution_count": null,
      "outputs": [
        {
          "output_type": "stream",
          "name": "stdout",
          "text": [
            "\n",
            "    Answer:\n",
            "    Since the defined problem is binary we need to be careful when interpreting the correlations computed by 'corr_matrix'.\n",
            "    They all seem very low - but this could be mainly due to the fact, that the outcome variable can only move between the values '0' and '1'.\n",
            "    However, we can still look at the values to get an overall feeling, how the numeric features influence the outcome variable\n",
            "    and which are the most influential once. The feature 'toCoupon_GEQ25min' has the highest correlation (- 0.10) with Y. This is not suprising.\n",
            "    Logically it makes sense that the distance to the restaurant/coffee house at the time the coupon is issued has a high impact\n",
            "    on the willingness of the customer to drive there to redeem it.\n",
            "    It also makes sense, that the correlation is negative then and gets bigger for the features which indicate a further distance.\n",
            "    -> the further away a customer is, the lower the willingness to redeem the coupon\n",
            "    Another result worth mentioning is the missing value for the correlation of 'toCoupon_GEQ5min' with Y.\n",
            "    This is due to the fact that the feature values are not varying in the given data set.\n",
            "    (meaning: all customers observed were at least 5 minutes away from the place the coupon was issued for)\n",
            "    \n",
            "\n",
            "    \n"
          ]
        },
        {
          "output_type": "execute_result",
          "data": {
            "text/plain": [
              "Y                    1.000000\n",
              "temperature          0.061240\n",
              "direction_same       0.014570\n",
              "direction_opp       -0.014570\n",
              "has_children        -0.045557\n",
              "toCoupon_GEQ15min   -0.081602\n",
              "toCoupon_GEQ25min   -0.103633\n",
              "toCoupon_GEQ5min          NaN\n",
              "Name: Y, dtype: float64"
            ]
          },
          "metadata": {},
          "execution_count": 9
        }
      ]
    },
    {
      "cell_type": "code",
      "source": [
        "# Creating barplot of most correlating features with Y\n",
        "\n",
        "# Group data for both features\n",
        "grouped_data_corr_25 = d.groupby([\"toCoupon_GEQ25min\", \"Y\"])[\"Y\"].count().unstack()\n",
        "\n",
        "# Plot for \"toCoupon_GEQ25min\"\n",
        "grouped_data_corr_25.plot(kind='bar', color=['deepskyblue', 'grey'])\n",
        "plt.xlabel(\"More than 25 Minutes away?\")\n",
        "plt.ylabel(\"Count\")\n",
        "plt.title(\"Correlation of Distance to place of interest and Acceptance of Coupon\")\n",
        "plt.legend(title=\"Coupon redeemed?\")\n",
        "plt.grid(axis='y')\n",
        "\n",
        "plt.show()\n",
        "\n",
        "print(\"\\n\")\n",
        "print(grouped_data_corr_25)\n",
        "print(\n",
        "    \"\"\"\n",
        "    \\n\n",
        "    What you can see here is that if the place of interest was more than 25 minutes away the recipients of the coupon were more likely to decline the offer.\n",
        "    If they were closer to the place, they were more likely to redeem the given coupon.\n",
        "    So there really seems to be a correlation between the variables despite of the relatively low correlation value.\n",
        "    \"\"\"\n",
        "    )"
      ],
      "metadata": {
        "colab": {
          "base_uri": "https://localhost:8080/",
          "height": 708
        },
        "id": "PaZMdl-m2Or9",
        "outputId": "a81017b5-debb-4b7e-83d2-d0e95cdae25b"
      },
      "id": "PaZMdl-m2Or9",
      "execution_count": null,
      "outputs": [
        {
          "output_type": "display_data",
          "data": {
            "text/plain": [
              "<Figure size 640x480 with 1 Axes>"
            ],
            "image/png": "[encoded data removed]"
          },
          "metadata": {}
        },
        {
          "output_type": "stream",
          "name": "stdout",
          "text": [
            "\n",
            "\n",
            "Y                     0     1\n",
            "toCoupon_GEQ25min            \n",
            "0                  4611  6562\n",
            "1                   863   648\n",
            "\n",
            "    \n",
            "\n",
            "    What you can see here is that if the place of interest was more than 25 minutes away the recipients of the coupon were more likely to decline the offer.\n",
            "    If they were closer to the place, they were more likely to redeem the given coupon.\n",
            "    So there really seems to be a correlation between the variables despite of the relatively low correlation value.\n",
            "    \n"
          ]
        }
      ]
    },
    {
      "cell_type": "markdown",
      "id": "refined-hanging",
      "metadata": {
        "id": "refined-hanging"
      },
      "source": [
        "### 4. Prepare the Data 1/2"
      ]
    },
    {
      "cell_type": "markdown",
      "id": "hydraulic-generation",
      "metadata": {
        "id": "hydraulic-generation"
      },
      "source": [
        "a. Run the following command to drop the following 4 variables: <br>\n",
        "*d = d.drop(['toCoupon_GEQ5min', 'toCoupon_GEQ15min', 'direction_same', 'car'], axis=1).* <br>\n",
        "b. Why does the feature 'direction_same' provide no (additional) useful information? <br>\n",
        "c. Sample a test set, containing 20% of the data, and a training set, containing the remaining 80%. Set a seed for reproducibility. <br>\n",
        "d. How many observations are in the test set and training set? <br>\n",
        "e. What are the class shares of the variable 'Y' in the test set and training set, respectively? <br>"
      ]
    },
    {
      "cell_type": "markdown",
      "id": "imposed-arcade",
      "metadata": {
        "id": "imposed-arcade"
      },
      "source": [
        "Your Answer / Code Below:"
      ]
    },
    {
      "cell_type": "code",
      "execution_count": null,
      "id": "demanding-contrast",
      "metadata": {
        "id": "demanding-contrast",
        "colab": {
          "base_uri": "https://localhost:8080/"
        },
        "outputId": "883c546e-6941-4cc7-fa59-621db778ebf9"
      },
      "outputs": [
        {
          "output_type": "stream",
          "name": "stdout",
          "text": [
            "<class 'pandas.core.frame.DataFrame'>\n",
            "RangeIndex: 12684 entries, 0 to 12683\n",
            "Data columns (total 22 columns):\n",
            " #   Column                Non-Null Count  Dtype \n",
            "---  ------                --------------  ----- \n",
            " 0   destination           12684 non-null  object\n",
            " 1   passanger             12684 non-null  object\n",
            " 2   weather               12684 non-null  object\n",
            " 3   temperature           12684 non-null  int64 \n",
            " 4   time                  12684 non-null  object\n",
            " 5   coupon                12684 non-null  object\n",
            " 6   expiration            12684 non-null  object\n",
            " 7   gender                12684 non-null  object\n",
            " 8   age                   12684 non-null  object\n",
            " 9   maritalStatus         12684 non-null  object\n",
            " 10  has_children          12684 non-null  int64 \n",
            " 11  education             12684 non-null  object\n",
            " 12  occupation            12684 non-null  object\n",
            " 13  income                12684 non-null  object\n",
            " 14  Bar                   12577 non-null  object\n",
            " 15  CoffeeHouse           12467 non-null  object\n",
            " 16  CarryAway             12533 non-null  object\n",
            " 17  RestaurantLessThan20  12554 non-null  object\n",
            " 18  Restaurant20To50      12495 non-null  object\n",
            " 19  toCoupon_GEQ25min     12684 non-null  int64 \n",
            " 20  direction_opp         12684 non-null  int64 \n",
            " 21  Y                     12684 non-null  int64 \n",
            "dtypes: int64(5), object(17)\n",
            "memory usage: 2.1+ MB\n",
            "\n",
            " As you can see the operation worked, since the features are not longer shown in the summary and the number of columns dropped to 22.\n"
          ]
        }
      ],
      "source": [
        "## a. Run the following command to drop the following 4 variables: d = d.drop(['toCoupon_GEQ5min', 'toCoupon_GEQ15min', 'direction_same', 'car'], axis=1).\n",
        "\n",
        "d = d.drop(['toCoupon_GEQ5min', 'toCoupon_GEQ15min', 'direction_same', 'car'], axis=1)\n",
        "d.info()\n",
        "print(\"\\n As you can see the operation worked, since the features are not longer shown in the summary and the number of columns dropped to 22.\")"
      ]
    },
    {
      "cell_type": "code",
      "source": [
        "## b. Why does the feature 'direction_same' provide no (additional) useful information?\n",
        "\n",
        "print(\n",
        "    \"\"\"\n",
        "    Answer:\n",
        "    There are two features describing if the direction the customer is driving is the same or the opposite direction from where the restaurant/coffee house is.\n",
        "    Since they both mutually exclude each other it is sufficient to keep just one of these features.\n",
        "    In this case we keep 'direction_opp' in the data set and delete direction_same since 'if direction_opp = 0 (FALSE) then direction_same = 1 (TRUE)'.\n",
        "    \"\"\"\n",
        "    )"
      ],
      "metadata": {
        "colab": {
          "base_uri": "https://localhost:8080/"
        },
        "id": "8PjnNwI1z8Tj",
        "outputId": "708cd352-d1e9-4e1a-ddb9-eacce5057ddc"
      },
      "id": "8PjnNwI1z8Tj",
      "execution_count": null,
      "outputs": [
        {
          "output_type": "stream",
          "name": "stdout",
          "text": [
            "\n",
            "    Answer:\n",
            "    There are two features describing if the direction the customer is driving is the same or the opposite direction from where the restaurant/coffee house is.\n",
            "    Since they both mutually exclude each other it is sufficient to keep just one of these features.\n",
            "    In this case we keep 'direction_opp' in the data set and delete direction_same since 'if direction_opp = 0 (FALSE) then direction_same = 1 (TRUE)'.\n",
            "    \n"
          ]
        }
      ]
    },
    {
      "cell_type": "code",
      "source": [
        "## Because of the missing values in some of the variables, I would like to remove the observations with missing values\n",
        "## from the data set before creating training and test data\n",
        "\n",
        "d = d.dropna(axis=0)\n",
        "d.info()\n",
        "\n",
        "print(\n",
        "    \"\"\"\n",
        "    Note:\n",
        "    The number of observations drop to 12,079. I think this is still enough to train a good model.\n",
        "    \"\"\"\n",
        "    )"
      ],
      "metadata": {
        "colab": {
          "base_uri": "https://localhost:8080/"
        },
        "id": "Cq7w425C1rwd",
        "outputId": "0e148962-1a7c-4dbd-d00a-1665391bcdff"
      },
      "id": "Cq7w425C1rwd",
      "execution_count": null,
      "outputs": [
        {
          "output_type": "stream",
          "name": "stdout",
          "text": [
            "<class 'pandas.core.frame.DataFrame'>\n",
            "Int64Index: 12079 entries, 22 to 12683\n",
            "Data columns (total 22 columns):\n",
            " #   Column                Non-Null Count  Dtype \n",
            "---  ------                --------------  ----- \n",
            " 0   destination           12079 non-null  object\n",
            " 1   passanger             12079 non-null  object\n",
            " 2   weather               12079 non-null  object\n",
            " 3   temperature           12079 non-null  int64 \n",
            " 4   time                  12079 non-null  object\n",
            " 5   coupon                12079 non-null  object\n",
            " 6   expiration            12079 non-null  object\n",
            " 7   gender                12079 non-null  object\n",
            " 8   age                   12079 non-null  object\n",
            " 9   maritalStatus         12079 non-null  object\n",
            " 10  has_children          12079 non-null  int64 \n",
            " 11  education             12079 non-null  object\n",
            " 12  occupation            12079 non-null  object\n",
            " 13  income                12079 non-null  object\n",
            " 14  Bar                   12079 non-null  object\n",
            " 15  CoffeeHouse           12079 non-null  object\n",
            " 16  CarryAway             12079 non-null  object\n",
            " 17  RestaurantLessThan20  12079 non-null  object\n",
            " 18  Restaurant20To50      12079 non-null  object\n",
            " 19  toCoupon_GEQ25min     12079 non-null  int64 \n",
            " 20  direction_opp         12079 non-null  int64 \n",
            " 21  Y                     12079 non-null  int64 \n",
            "dtypes: int64(5), object(17)\n",
            "memory usage: 2.1+ MB\n",
            "\n",
            "    Note:\n",
            "    The number of observations drop to 12,079. I think this is still enough to train a good model.\n",
            "    \n"
          ]
        }
      ]
    },
    {
      "cell_type": "code",
      "source": [
        "## c. Sample a test set, containing 20% of the data, and a training set, containing the remaining 80%. Set a seed for reproducibility.\n",
        "\n",
        "# Splitting the data with random seed to ensure reproducability of the output\n",
        "d_train, d_test = train_test_split(d, test_size=0.2, random_state=123)"
      ],
      "metadata": {
        "id": "wSZJrfEQ1nRu"
      },
      "id": "wSZJrfEQ1nRu",
      "execution_count": null,
      "outputs": []
    },
    {
      "cell_type": "code",
      "source": [
        "## d. How many observations are in the test set and training set?\n",
        "\n",
        "print(f\"Number of observations in training set: {len(d_train)} observations\")\n",
        "print(f\"\\nNumber of observations in test set: {len(d_test)} observations\")"
      ],
      "metadata": {
        "colab": {
          "base_uri": "https://localhost:8080/"
        },
        "id": "l3OmZ_WSK8fF",
        "outputId": "e57b7c8d-5c43-4137-ec2f-89dd4cb25274"
      },
      "id": "l3OmZ_WSK8fF",
      "execution_count": null,
      "outputs": [
        {
          "output_type": "stream",
          "name": "stdout",
          "text": [
            "Number of observations in training set: 9663 observations\n",
            "\n",
            "Number of observations in test set: 2416 observations\n"
          ]
        }
      ]
    },
    {
      "cell_type": "code",
      "source": [
        "## e. What are the class shares of the variable 'Y' in the test set and training set, respectively?\n",
        "\n",
        "# Create DataFrames for class counts\n",
        "class_counts_train = d_train[\"Y\"].value_counts()\n",
        "class_counts_test = d_test[\"Y\"].value_counts()\n",
        "\n",
        "# Add \"Total\" row for overall counts\n",
        "class_counts_train[\"Total\"] = class_counts_train.sum()\n",
        "class_counts_test[\"Total\"] = class_counts_test.sum()\n",
        "\n",
        "# Calculate percentage shares (omitting \"Total\" row)\n",
        "class_shares_train = (class_counts_train[:-1] / len(d_train))\n",
        "class_shares_test = (class_counts_test[:-1] / len(d_test))\n",
        "\n",
        "# Create final DataFrames with counts and shares\n",
        "class_matrix_train = pd.DataFrame({\n",
        "    \"Count\": class_counts_train[:-1],\n",
        "    \"Percentage\": class_shares_train\n",
        "})\n",
        "class_matrix_test = pd.DataFrame({\n",
        "    \"Count\": class_counts_test[:-1],\n",
        "    \"Percentage\": class_shares_test\n",
        "})\n",
        "\n",
        "# Display the results\n",
        "print(\"Class shares of label 'Y' for training set:\")\n",
        "print(class_matrix_train)\n",
        "\n",
        "print(\"\\nClass shares of label 'Y' for test set:\")\n",
        "print(class_matrix_test)\n",
        "\n",
        "print(\"\\n The classes of the target label 'Y' are equally distributed throughout the training and test sets.\")"
      ],
      "metadata": {
        "colab": {
          "base_uri": "https://localhost:8080/"
        },
        "id": "tneWXmqkOWBP",
        "outputId": "cf228764-a73f-43a1-e383-2126ae6946a9"
      },
      "id": "tneWXmqkOWBP",
      "execution_count": null,
      "outputs": [
        {
          "output_type": "stream",
          "name": "stdout",
          "text": [
            "Class shares of label 'Y' for training set:\n",
            "   Count  Percentage\n",
            "1   5471     0.56618\n",
            "0   4192     0.43382\n",
            "\n",
            "Class shares of label 'Y' for test set:\n",
            "   Count  Percentage\n",
            "1   1406    0.581954\n",
            "0   1010    0.418046\n",
            "\n",
            " The classes of the target label 'Y' are equally distributed throughout the training and test sets.\n"
          ]
        }
      ]
    },
    {
      "cell_type": "markdown",
      "id": "concrete-firewall",
      "metadata": {
        "id": "concrete-firewall"
      },
      "source": [
        "### 4. Prepare the Data 2/2"
      ]
    },
    {
      "cell_type": "markdown",
      "id": "computational-vintage",
      "metadata": {
        "id": "computational-vintage"
      },
      "source": [
        "a. Drop 'Y' from the training set and store the resulting dataframe as 'X_train'. Do the same for the test set, storing it as 'X_test'. <br>\n",
        "b. Store 'Y' from the training set as 'y_train'. Do the same for the test set, storing its 'Y' as 'y_test'. <br>\n",
        "c. Use sklearn's Pipeline() function to create a pipeline that preprocesses the data (e.g., standardizing numeric features and applying one-hot-encoding to categorical features). You can, of course, explore if more elaborate feature engineering improves performance. <br> **Important:** Remember to fit the pipeline only on the training set ('X_train') using the 'pipeline.fit_transform()' function. Store the resulting dataframe as 'X_train_prepared'. <br>\n",
        "d. Apply the pipeline also to 'X_test'. Store the resulting dataframe as 'X_test_prepared'. On the test set, use only the 'pipeline.transform()' function, not: 'pipeline.fit_transform()'."
      ]
    },
    {
      "cell_type": "markdown",
      "id": "exciting-edward",
      "metadata": {
        "id": "exciting-edward"
      },
      "source": [
        "Your Answer / Code Below:"
      ]
    },
    {
      "cell_type": "code",
      "execution_count": null,
      "id": "expired-record",
      "metadata": {
        "id": "expired-record",
        "colab": {
          "base_uri": "https://localhost:8080/"
        },
        "outputId": "0d1cde65-9930-40ae-b1de-d9d0a08e720a"
      },
      "outputs": [
        {
          "output_type": "stream",
          "name": "stdout",
          "text": [
            "<class 'pandas.core.frame.DataFrame'>\n",
            "Int64Index: 9663 entries, 1326 to 3777\n",
            "Data columns (total 21 columns):\n",
            " #   Column                Non-Null Count  Dtype \n",
            "---  ------                --------------  ----- \n",
            " 0   destination           9663 non-null   object\n",
            " 1   passanger             9663 non-null   object\n",
            " 2   weather               9663 non-null   object\n",
            " 3   temperature           9663 non-null   int64 \n",
            " 4   time                  9663 non-null   object\n",
            " 5   coupon                9663 non-null   object\n",
            " 6   expiration            9663 non-null   object\n",
            " 7   gender                9663 non-null   object\n",
            " 8   age                   9663 non-null   object\n",
            " 9   maritalStatus         9663 non-null   object\n",
            " 10  has_children          9663 non-null   int64 \n",
            " 11  education             9663 non-null   object\n",
            " 12  occupation            9663 non-null   object\n",
            " 13  income                9663 non-null   object\n",
            " 14  Bar                   9663 non-null   object\n",
            " 15  CoffeeHouse           9663 non-null   object\n",
            " 16  CarryAway             9663 non-null   object\n",
            " 17  RestaurantLessThan20  9663 non-null   object\n",
            " 18  Restaurant20To50      9663 non-null   object\n",
            " 19  toCoupon_GEQ25min     9663 non-null   int64 \n",
            " 20  direction_opp         9663 non-null   int64 \n",
            "dtypes: int64(4), object(17)\n",
            "memory usage: 1.6+ MB\n",
            "None\n",
            "<class 'pandas.core.frame.DataFrame'>\n",
            "Int64Index: 2416 entries, 2617 to 3314\n",
            "Data columns (total 21 columns):\n",
            " #   Column                Non-Null Count  Dtype \n",
            "---  ------                --------------  ----- \n",
            " 0   destination           2416 non-null   object\n",
            " 1   passanger             2416 non-null   object\n",
            " 2   weather               2416 non-null   object\n",
            " 3   temperature           2416 non-null   int64 \n",
            " 4   time                  2416 non-null   object\n",
            " 5   coupon                2416 non-null   object\n",
            " 6   expiration            2416 non-null   object\n",
            " 7   gender                2416 non-null   object\n",
            " 8   age                   2416 non-null   object\n",
            " 9   maritalStatus         2416 non-null   object\n",
            " 10  has_children          2416 non-null   int64 \n",
            " 11  education             2416 non-null   object\n",
            " 12  occupation            2416 non-null   object\n",
            " 13  income                2416 non-null   object\n",
            " 14  Bar                   2416 non-null   object\n",
            " 15  CoffeeHouse           2416 non-null   object\n",
            " 16  CarryAway             2416 non-null   object\n",
            " 17  RestaurantLessThan20  2416 non-null   object\n",
            " 18  Restaurant20To50      2416 non-null   object\n",
            " 19  toCoupon_GEQ25min     2416 non-null   int64 \n",
            " 20  direction_opp         2416 non-null   int64 \n",
            "dtypes: int64(4), object(17)\n",
            "memory usage: 415.2+ KB\n",
            "None\n"
          ]
        }
      ],
      "source": [
        "## a. Drop 'Y' from the training set and store the resulting dataframe as 'X_train'. Do the same for the test set, storing it as 'X_test'.\n",
        "\n",
        "X_train = d_train.drop(\"Y\", axis=1)\n",
        "X_test = d_test.drop(\"Y\", axis=1)\n",
        "\n",
        "# Checking output to see if it worked\n",
        "print(X_train.info())\n",
        "print(X_test.info())"
      ]
    },
    {
      "cell_type": "code",
      "source": [
        "## b. Store 'Y' from the training set as 'y_train'. Do the same for the test set, storing its 'Y' as 'y_test'.\n",
        "\n",
        "y_train = d_train[\"Y\"]\n",
        "y_test = d_test[\"Y\"]\n",
        "\n",
        "# Checking output to see if it worked\n",
        "print(y_train.info())\n",
        "print(y_test.info())"
      ],
      "metadata": {
        "colab": {
          "base_uri": "https://localhost:8080/"
        },
        "id": "kHvb5bWfTyU_",
        "outputId": "03d834cb-2888-4535-f0c2-d6ac51747101"
      },
      "id": "kHvb5bWfTyU_",
      "execution_count": null,
      "outputs": [
        {
          "output_type": "stream",
          "name": "stdout",
          "text": [
            "<class 'pandas.core.series.Series'>\n",
            "Int64Index: 9663 entries, 1326 to 3777\n",
            "Series name: Y\n",
            "Non-Null Count  Dtype\n",
            "--------------  -----\n",
            "9663 non-null   int64\n",
            "dtypes: int64(1)\n",
            "memory usage: 151.0 KB\n",
            "None\n",
            "<class 'pandas.core.series.Series'>\n",
            "Int64Index: 2416 entries, 2617 to 3314\n",
            "Series name: Y\n",
            "Non-Null Count  Dtype\n",
            "--------------  -----\n",
            "2416 non-null   int64\n",
            "dtypes: int64(1)\n",
            "memory usage: 37.8 KB\n",
            "None\n"
          ]
        }
      ]
    },
    {
      "cell_type": "code",
      "source": [
        "# Creating list of categorical and numerical features\n",
        "categorical_features = [col for col in X_train.columns if X_train[col].dtype == 'object']\n",
        "numerical_features = [col for col in X_train.columns if X_train[col].dtype == 'int64']\n",
        "print(categorical_features)\n",
        "print(numerical_features)"
      ],
      "metadata": {
        "colab": {
          "base_uri": "https://localhost:8080/"
        },
        "id": "7ZMW2vL4C6su",
        "outputId": "a427cb4a-24bf-448e-a901-bbbafd3e28ec"
      },
      "id": "7ZMW2vL4C6su",
      "execution_count": null,
      "outputs": [
        {
          "output_type": "stream",
          "name": "stdout",
          "text": [
            "['destination', 'passanger', 'weather', 'time', 'coupon', 'expiration', 'gender', 'age', 'maritalStatus', 'education', 'occupation', 'income', 'Bar', 'CoffeeHouse', 'CarryAway', 'RestaurantLessThan20', 'Restaurant20To50']\n",
            "['temperature', 'has_children', 'toCoupon_GEQ25min', 'direction_opp']\n"
          ]
        }
      ]
    },
    {
      "cell_type": "code",
      "source": [
        "## c. Use sklearn's Pipeline() function to create a pipeline that preprocesses the data\n",
        "## (e.g., standardizing numeric features and applying one-hot-encoding to categorical features).\n",
        "## You can, of course, explore if more elaborate feature engineering improves performance.\n",
        "## Important: Remember to fit the pipeline only on the training set ('X_train') using the 'pipeline.fit_transform()' function.\n",
        "## Store the resulting dataframe as 'X_train_prepared'.\n",
        "\n",
        "# Create separate preprocessing pipelines for OHE and StandardScaling\n",
        "preprocessing_pipeline_ohe = Pipeline([('preprocessing_cat', OneHotEncoder(handle_unknown='ignore'))])\n",
        "preprocessing_pipeline_stscal = Pipeline([('preprocessing_num', StandardScaler())])\n",
        "\n",
        "# Fit and transform the training data using the pipeline\n",
        "X_train_prepared_cat = preprocessing_pipeline_ohe.fit_transform(X_train[categorical_features])\n",
        "X_train_prepared_num = preprocessing_pipeline_stscal.fit_transform(X_train[numerical_features])\n",
        "\n",
        "# Print the shape of the preprocessed data to verify\n",
        "print(X_train_prepared_cat.shape)\n",
        "print(X_train_prepared_num.shape)\n",
        "\n",
        "# Concatenate the features to one training set again\n",
        "X_train_prepared_cat = X_train_prepared_cat.toarray()\n",
        "X_train_prepared = np.hstack((X_train_prepared_cat, X_train_prepared_num))\n",
        "\n",
        "print(X_train_prepared.shape)"
      ],
      "metadata": {
        "colab": {
          "base_uri": "https://localhost:8080/"
        },
        "id": "wZNWpnFvUZb5",
        "outputId": "308c5e33-21d4-4b65-dd07-370ceb393f87"
      },
      "id": "wZNWpnFvUZb5",
      "execution_count": null,
      "outputs": [
        {
          "output_type": "stream",
          "name": "stdout",
          "text": [
            "(9663, 102)\n",
            "(9663, 4)\n",
            "(9663, 106)\n"
          ]
        }
      ]
    },
    {
      "cell_type": "code",
      "source": [
        "## d. Apply the pipeline also to 'X_test'. Store the resulting dataframe as 'X_test_prepared'.\n",
        "## On the test set, use only the 'pipeline.transform()' function, not: 'pipeline.fit_transform()'.\n",
        "\n",
        "# Creating list of categorical and numerical features\n",
        "categorical_features_test = [col for col in X_test.columns if X_test[col].dtype == 'object']\n",
        "numerical_features_test = [col for col in X_test.columns if X_test[col].dtype == 'int64']\n",
        "\n",
        "# Fit and transform the training data using the pipeline\n",
        "X_test_prepared_cat = preprocessing_pipeline_ohe.transform(X_test[categorical_features])\n",
        "X_test_prepared_num = preprocessing_pipeline_stscal.transform(X_test[numerical_features])\n",
        "\n",
        "# Print the shape of the preprocessed data to verify\n",
        "print(X_test_prepared_cat.shape)\n",
        "print(X_test_prepared_num.shape)\n",
        "\n",
        "# Concatenate the features to one training set again\n",
        "X_test_prepared_cat = X_test_prepared_cat.toarray()\n",
        "X_test_prepared = np.hstack((X_test_prepared_cat, X_test_prepared_num))\n",
        "\n",
        "print(X_test_prepared.shape)"
      ],
      "metadata": {
        "colab": {
          "base_uri": "https://localhost:8080/"
        },
        "id": "in3jBlyWed6P",
        "outputId": "ad7ac3e2-a512-4afd-eaed-3692f361d33c"
      },
      "id": "in3jBlyWed6P",
      "execution_count": null,
      "outputs": [
        {
          "output_type": "stream",
          "name": "stdout",
          "text": [
            "(2416, 102)\n",
            "(2416, 4)\n",
            "(2416, 106)\n"
          ]
        }
      ]
    },
    {
      "cell_type": "markdown",
      "id": "fabulous-introduction",
      "metadata": {
        "id": "fabulous-introduction"
      },
      "source": [
        "### 5. Shortlist Promising Models"
      ]
    },
    {
      "cell_type": "markdown",
      "id": "smoking-regression",
      "metadata": {
        "id": "smoking-regression"
      },
      "source": [
        "a. Which methods covered in class could be used to address this problem? <br>\n",
        "b. Briefly explain your method choice and which method you expect to perform best. Train at least 3 different machine learning methods. <br>\n",
        "c. For each method, run *N*-fold cross-validation to compute the mean performance on the *N* folds. <br>\n",
        "d. Plot the cross-validation results. <br>\n",
        "**Important:** Do not assess model performance on the test set yet. <br>"
      ]
    },
    {
      "cell_type": "markdown",
      "id": "structured-irrigation",
      "metadata": {
        "id": "structured-irrigation"
      },
      "source": [
        "Your Answer / Code Below:"
      ]
    },
    {
      "cell_type": "code",
      "execution_count": null,
      "id": "august-basement",
      "metadata": {
        "id": "august-basement"
      },
      "outputs": [],
      "source": [
        "## a. Which methods covered in class could be used to address this problem?\n",
        "# Supervised Learning // Binary Classification Problem\n",
        "# -> suitable methods: Logistics Regression, K-Nearest_Neighbors (KNN), Support Vector Machines (SVM),\n",
        "# Decision Tree, Random Forest, Neural Network"
      ]
    },
    {
      "cell_type": "code",
      "source": [
        "## b. Briefly explain your method choice and which method you expect to perform best.\n",
        "## Train at least 3 different machine learning methods.\n",
        "\n",
        "# Explanation:\n",
        "\n",
        "# Train Logistic Regression\n",
        "from sklearn.linear_model import LogisticRegression\n",
        "\n",
        "log_reg = LogisticRegression()\n",
        "log_reg.fit(X_train_prepared, y_train)\n",
        "\n",
        "# Train KNN\n",
        "from sklearn.neighbors import KNeighborsClassifier\n",
        "\n",
        "knn = KNeighborsClassifier(n_neighbors=5)\n",
        "knn.fit(X_train_prepared,y_train)\n",
        "\n",
        "# Train SVM\n",
        "from sklearn import svm\n",
        "\n",
        "svm = svm.SVC()\n",
        "svm.fit(X_train_prepared, y_train)\n",
        "\n",
        "# Train Decision Tree\n",
        "from sklearn import tree\n",
        "\n",
        "dt = tree.DecisionTreeClassifier()\n",
        "dt.fit(X_train_prepared, y_train)\n",
        "\n",
        "# Train Random Forest\n",
        "from sklearn.ensemble import RandomForestClassifier\n",
        "\n",
        "rf = RandomForestClassifier(n_estimators=15, max_depth=None, min_samples_split=2, random_state=0)\n",
        "rf.fit(X_train_prepared, y_train)\n",
        "\n",
        "# Train Neural Network\n",
        "from sklearn.neural_network import MLPClassifier\n",
        "\n",
        "nnet = MLPClassifier(max_iter=500, random_state=32)\n",
        "nnet.fit(X_train_prepared, y_train)"
      ],
      "metadata": {
        "colab": {
          "base_uri": "https://localhost:8080/",
          "height": 74
        },
        "id": "7ZEABY9tkdnQ",
        "outputId": "8c185601-b6e2-4b03-baf9-e939c04cfadb"
      },
      "id": "7ZEABY9tkdnQ",
      "execution_count": null,
      "outputs": [
        {
          "output_type": "execute_result",
          "data": {
            "text/plain": [
              "MLPClassifier(max_iter=500, random_state=32)"
            ],
            "text/html": [
              "<style>#sk-container-id-1 {color: black;background-color: white;}#sk-container-id-1 pre{padding: 0;}#sk-container-id-1 div.sk-toggleable {background-color: white;}#sk-container-id-1 label.sk-toggleable__label {cursor: pointer;display: block;width: 100%;margin-bottom: 0;padding: 0.3em;box-sizing: border-box;text-align: center;}#sk-container-id-1 label.sk-toggleable__label-arrow:before {content: \"▸\";float: left;margin-right: 0.25em;color: #696969;}#sk-container-id-1 label.sk-toggleable__label-arrow:hover:before {color: black;}#sk-container-id-1 div.sk-estimator:hover label.sk-toggleable__label-arrow:before {color: black;}#sk-container-id-1 div.sk-toggleable__content {max-height: 0;max-width: 0;overflow: hidden;text-align: left;background-color: #f0f8ff;}#sk-container-id-1 div.sk-toggleable__content pre {margin: 0.2em;color: black;border-radius: 0.25em;background-color: #f0f8ff;}#sk-container-id-1 input.sk-toggleable__control:checked~div.sk-toggleable__content {max-height: 200px;max-width: 100%;overflow: auto;}#sk-container-id-1 input.sk-toggleable__control:checked~label.sk-toggleable__label-arrow:before {content: \"▾\";}#sk-container-id-1 div.sk-estimator input.sk-toggleable__control:checked~label.sk-toggleable__label {background-color: #d4ebff;}#sk-container-id-1 div.sk-label input.sk-toggleable__control:checked~label.sk-toggleable__label {background-color: #d4ebff;}#sk-container-id-1 input.sk-hidden--visually {border: 0;clip: rect(1px 1px 1px 1px);clip: rect(1px, 1px, 1px, 1px);height: 1px;margin: -1px;overflow: hidden;padding: 0;position: absolute;width: 1px;}#sk-container-id-1 div.sk-estimator {font-family: monospace;background-color: #f0f8ff;border: 1px dotted black;border-radius: 0.25em;box-sizing: border-box;margin-bottom: 0.5em;}#sk-container-id-1 div.sk-estimator:hover {background-color: #d4ebff;}#sk-container-id-1 div.sk-parallel-item::after {content: \"\";width: 100%;border-bottom: 1px solid gray;flex-grow: 1;}#sk-container-id-1 div.sk-label:hover label.sk-toggleable__label {background-color: #d4ebff;}#sk-container-id-1 div.sk-serial::before {content: \"\";position: absolute;border-left: 1px solid gray;box-sizing: border-box;top: 0;bottom: 0;left: 50%;z-index: 0;}#sk-container-id-1 div.sk-serial {display: flex;flex-direction: column;align-items: center;background-color: white;padding-right: 0.2em;padding-left: 0.2em;position: relative;}#sk-container-id-1 div.sk-item {position: relative;z-index: 1;}#sk-container-id-1 div.sk-parallel {display: flex;align-items: stretch;justify-content: center;background-color: white;position: relative;}#sk-container-id-1 div.sk-item::before, #sk-container-id-1 div.sk-parallel-item::before {content: \"\";position: absolute;border-left: 1px solid gray;box-sizing: border-box;top: 0;bottom: 0;left: 50%;z-index: -1;}#sk-container-id-1 div.sk-parallel-item {display: flex;flex-direction: column;z-index: 1;position: relative;background-color: white;}#sk-container-id-1 div.sk-parallel-item:first-child::after {align-self: flex-end;width: 50%;}#sk-container-id-1 div.sk-parallel-item:last-child::after {align-self: flex-start;width: 50%;}#sk-container-id-1 div.sk-parallel-item:only-child::after {width: 0;}#sk-container-id-1 div.sk-dashed-wrapped {border: 1px dashed gray;margin: 0 0.4em 0.5em 0.4em;box-sizing: border-box;padding-bottom: 0.4em;background-color: white;}#sk-container-id-1 div.sk-label label {font-family: monospace;font-weight: bold;display: inline-block;line-height: 1.2em;}#sk-container-id-1 div.sk-label-container {text-align: center;}#sk-container-id-1 div.sk-container {/* jupyter's `normalize.less` sets `[hidden] { display: none; }` but bootstrap.min.css set `[hidden] { display: none !important; }` so we also need the `!important` here to be able to override the default hidden behavior on the sphinx rendered scikit-learn.org. See: https://github.com/scikit-learn/scikit-learn/issues/21755 */display: inline-block !important;position: relative;}#sk-container-id-1 div.sk-text-repr-fallback {display: none;}</style><div id=\"sk-container-id-1\" class=\"sk-top-container\"><div class=\"sk-text-repr-fallback\"><pre>MLPClassifier(max_iter=500, random_state=32)</pre><b>In a Jupyter environment, please rerun this cell to show the HTML representation or trust the notebook. <br />On GitHub, the HTML representation is unable to render, please try loading this page with nbviewer.org.</b></div><div class=\"sk-container\" hidden><div class=\"sk-item\"><div class=\"sk-estimator sk-toggleable\"><input class=\"sk-toggleable__control sk-hidden--visually\" id=\"sk-estimator-id-1\" type=\"checkbox\" checked><label for=\"sk-estimator-id-1\" class=\"sk-toggleable__label sk-toggleable__label-arrow\">MLPClassifier</label><div class=\"sk-toggleable__content\"><pre>MLPClassifier(max_iter=500, random_state=32)</pre></div></div></div></div></div>"
            ]
          },
          "metadata": {},
          "execution_count": 23
        }
      ]
    },
    {
      "cell_type": "code",
      "source": [
        "## c. For each method, run N-fold cross-validation to compute the mean performance on the N folds.\n",
        "\n",
        "from sklearn.model_selection import cross_val_score\n",
        "\n",
        "# Logistic Regression\n",
        "log_reg_scores = cross_val_score(log_reg, X_train_prepared, y_train, cv=5)\n",
        "print(\"Logistic Regression Accuracy: {:.2f}\".format(log_reg_scores.mean()))\n",
        "\n",
        "# KNN\n",
        "knn_scores = cross_val_score(knn, X_train_prepared, y_train, cv=5)\n",
        "print(\"K Nearest Neighbors Accuracy: {:.2f}\".format(knn_scores.mean()))\n",
        "\n",
        "# SVM\n",
        "svm_scores = cross_val_score(svm, X_train_prepared, y_train, cv=5)\n",
        "print(\"Support Vector Machine Accuracy: {:.2f}\".format(svm_scores.mean()))\n",
        "\n",
        "# Decision Tree\n",
        "dt_scores = cross_val_score(dt, X_train_prepared, y_train, cv=5)\n",
        "print(\"Decision Tree Accuracy: {:.2f}\".format(dt_scores.mean()))\n",
        "\n",
        "# Random Forest\n",
        "rf_scores = cross_val_score(rf, X_train_prepared, y_train, cv=5)\n",
        "print(\"Random Forest Accuracy: {:.2f}\".format(rf_scores.mean()))\n",
        "\n",
        "# Neural Network\n",
        "nnet_scores = cross_val_score(nnet, X_train_prepared, y_train, cv=5)\n",
        "print(\"Neural Network Accuracy: {:.2f}\".format(nnet_scores.mean()))"
      ],
      "metadata": {
        "colab": {
          "base_uri": "https://localhost:8080/"
        },
        "id": "QLMI0dURl3Jf",
        "outputId": "032617f7-e509-4ff4-d125-52e90f27e865"
      },
      "id": "QLMI0dURl3Jf",
      "execution_count": null,
      "outputs": [
        {
          "output_type": "stream",
          "name": "stdout",
          "text": [
            "Logistic Regression Accuracy: 0.68\n",
            "K Nearest Neighbors Accuracy: 0.66\n",
            "Support Vector Machine Accuracy: 0.75\n",
            "Decision Tree Accuracy: 0.69\n",
            "Random Forest Accuracy: 0.73\n",
            "Neural Network Accuracy: 0.73\n"
          ]
        }
      ]
    },
    {
      "cell_type": "markdown",
      "id": "dedicated-enzyme",
      "metadata": {
        "id": "dedicated-enzyme"
      },
      "source": [
        "### 6. Fine-tune the System"
      ]
    },
    {
      "cell_type": "markdown",
      "id": "royal-delaware",
      "metadata": {
        "id": "royal-delaware"
      },
      "source": [
        "a. Fine-tune the hyperparameters of the best-performing method (e.g., the number of trees in a Random Forest classifier). Again, run cross-validation on the training data. You are free to use either random or grid search. <br>\n",
        "b. Once you are confident about your final model, measure its performance on the test set to estimate the generalization error. <br>\n",
        "c. Print the confusion matrix of your final model, comparing its predictions against 'y_test'. Report also precision, recall, accuracy, and the F1-score. <br>"
      ]
    },
    {
      "cell_type": "markdown",
      "id": "explicit-distributor",
      "metadata": {
        "id": "explicit-distributor"
      },
      "source": [
        "Your Answer / Code Below:"
      ]
    },
    {
      "cell_type": "code",
      "source": [],
      "metadata": {
        "id": "Uur8aDrHj8EG"
      },
      "id": "Uur8aDrHj8EG",
      "execution_count": null,
      "outputs": []
    },
    {
      "cell_type": "markdown",
      "id": "minus-season",
      "metadata": {
        "id": "minus-season"
      },
      "source": [
        "### 7. Present Your Solution"
      ]
    },
    {
      "cell_type": "markdown",
      "id": "voluntary-consultancy",
      "metadata": {
        "id": "voluntary-consultancy"
      },
      "source": [
        "a. Ensure your code is documented well. <br>\n",
        "b. Briefly summarize your results (e.g., best-performing method, hyperparameter choice). Use the dedicated cell below.<br>\n",
        "c. Describe your key learnings: what went well, what didn't go well? <br>\n",
        "d. What are your system's limitations? What would you try or change if you had more time for this machine learning project? <br>"
      ]
    },
    {
      "cell_type": "markdown",
      "id": "separate-spain",
      "metadata": {
        "id": "separate-spain"
      },
      "source": [
        "Your Answer / Code Below:"
      ]
    },
    {
      "cell_type": "code",
      "execution_count": null,
      "id": "considerable-projector",
      "metadata": {
        "id": "considerable-projector"
      },
      "outputs": [],
      "source": []
    },
    {
      "cell_type": "code",
      "source": [
        "BEST_ACCURACY =     # accuracy on the TEST set of the winning method (in %)\n",
        "NB_OF_METHODS =     # number of different ML methods (e.g., SVM, RF, etc.):\n",
        "NB_OF_FIGURES =     # number of different figures (e.g., pie chart, bar chart, confusion matrix, etc.)"
      ],
      "metadata": {
        "id": "PR168AcN10Qi"
      },
      "id": "PR168AcN10Qi",
      "execution_count": null,
      "outputs": []
    },
    {
      "cell_type": "markdown",
      "id": "meaning-forward",
      "metadata": {
        "id": "meaning-forward"
      },
      "source": [
        "### 8. Launch"
      ]
    },
    {
      "cell_type": "markdown",
      "id": "viral-cycling",
      "metadata": {
        "id": "viral-cycling"
      },
      "source": [
        "a. Save your final model. You do not need to submit it together with your Jupyter Notebook on Canvas. You can use the following command:"
      ]
    },
    {
      "cell_type": "code",
      "execution_count": null,
      "id": "grateful-oliver",
      "metadata": {
        "id": "grateful-oliver"
      },
      "outputs": [],
      "source": [
        "import joblib\n",
        "joblib.dump(my_model, \"my_model.pkl\")"
      ]
    },
    {
      "cell_type": "markdown",
      "id": "deadly-prison",
      "metadata": {
        "id": "deadly-prison"
      },
      "source": [
        "### Congrats. You made it!"
      ]
    }
  ],
  "metadata": {
    "kernelspec": {
      "display_name": "Python 3",
      "name": "python3"
    },
    "language_info": {
      "codemirror_mode": {
        "name": "ipython",
        "version": 3
      },
      "file_extension": ".py",
      "mimetype": "text/x-python",
      "name": "python",
      "nbconvert_exporter": "python",
      "pygments_lexer": "ipython3",
      "version": "3.7.10"
    },
    "colab": {
      "provenance": [],
      "gpuType": "T4",
      "include_colab_link": true
    },
    "accelerator": "GPU"
  },
  "nbformat": 4,
  "nbformat_minor": 5
}